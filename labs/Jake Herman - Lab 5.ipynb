{
 "cells": [
  {
   "cell_type": "markdown",
   "metadata": {},
   "source": [
    "## Problem 1\n",
    "Write a while loop that counts from 1 to 10.  Your loop should print each number (1, 2, 3, ...) on its own line."
   ]
  },
  {
   "cell_type": "code",
   "execution_count": 2,
   "metadata": {},
   "outputs": [
    {
     "name": "stdout",
     "output_type": "stream",
     "text": [
      "1\n",
      "2\n",
      "3\n",
      "4\n",
      "5\n",
      "6\n",
      "7\n",
      "8\n",
      "9\n",
      "10\n"
     ]
    }
   ],
   "source": [
    "num = 0\n",
    "while(num < 10):\n",
    "    num += 1\n",
    "    print(num)"
   ]
  },
  {
   "cell_type": "markdown",
   "metadata": {},
   "source": [
    "## Problem 2\n",
    "Write a while loop to print all numbers between 1 and 100 that are multiples of 13."
   ]
  },
  {
   "cell_type": "code",
   "execution_count": 3,
   "metadata": {},
   "outputs": [
    {
     "name": "stdout",
     "output_type": "stream",
     "text": [
      "13\n",
      "26\n",
      "39\n",
      "52\n",
      "65\n",
      "78\n",
      "91\n"
     ]
    }
   ],
   "source": [
    "num = 0\n",
    "while(num < 100):\n",
    "    num += 1\n",
    "    if num % 13 == 0:\n",
    "        print(num)"
   ]
  },
  {
   "cell_type": "markdown",
   "metadata": {},
   "source": [
    "## Problem 3\n",
    "Below is the guessing game from the notes.  Modify it to limit the number of guesses the user can make to __5__.  If the user takes up all 5 guesses, then tell them \"You have no more guesses left. You lose!\" and then stop the game."
   ]
  },
  {
   "cell_type": "code",
   "execution_count": 5,
   "metadata": {},
   "outputs": [
    {
     "name": "stdout",
     "output_type": "stream",
     "text": [
      "Please guess a number between 0 and 100: 10\n",
      "Your number is too low!\n",
      "5guesses left!\n",
      "\n",
      "Please guess another number: 50\n",
      "Your number is too high!\n",
      "4guesses left!\n",
      "\n",
      "Please guess another number: 20\n",
      "Your number is too low!\n",
      "3guesses left!\n",
      "\n",
      "Please guess another number: 30\n",
      "Your number is too low!\n",
      "2guesses left!\n",
      "\n",
      "Please guess another number: 45\n",
      "Your number is too low!\n",
      "1guesses left!\n",
      "\n",
      "Please guess another number: 48\n",
      "You guessed it right!\n"
     ]
    }
   ],
   "source": [
    "import random\n",
    "\n",
    "num = random.randint(0,100)\n",
    "guess = int(input(\"Please guess a number between 0 and 100: \"))\n",
    "guesses = 0\n",
    "\n",
    "while guess != num and count < 5:    \n",
    "    if guess > 100 or guess < 0:\n",
    "        print(\"Invalid number.\")\n",
    "    elif guess > num:\n",
    "        print(\"Your number is too high!\")\n",
    "    else:\n",
    "        print(\"Your number is too low!\")\n",
    "    guesses += 1\n",
    "    print(str(5 - guesses) + \"guesses left!\")\n",
    "    guess = int(input(\"\\nPlease guess another number: \"))\n",
    "print(\"You guessed it right!\")"
   ]
  },
  {
   "cell_type": "markdown",
   "metadata": {},
   "source": [
    "## Problem 4\n",
    "Create a multiplication table (from 1 to 10) for an integer inputted by the user.  You should out put one entry of the table per line.  Each entry should be formatted like `a x b = c` where __a__ is the number inputed by the user, __b__ is the number __a__ is multiplied by, and __c__ is the result of multiplication."
   ]
  },
  {
   "cell_type": "code",
   "execution_count": 7,
   "metadata": {},
   "outputs": [
    {
     "name": "stdout",
     "output_type": "stream",
     "text": [
      "enter a number: 10\n",
      "10 x 1 = 10\n",
      "10 x 2 = 20\n",
      "10 x 3 = 30\n",
      "10 x 4 = 40\n",
      "10 x 5 = 50\n",
      "10 x 6 = 60\n",
      "10 x 7 = 70\n",
      "10 x 8 = 80\n",
      "10 x 9 = 90\n",
      "10 x 10 = 100\n"
     ]
    }
   ],
   "source": [
    "number = int(input(\"enter a number: \"))\n",
    "\n",
    "for num in range(1,11):\n",
    "    print(\"{0} x {1} = {2}\".format(number, num, number * num))"
   ]
  },
  {
   "cell_type": "markdown",
   "metadata": {},
   "source": [
    "## Problem 5\n",
    "Write a short program that calculates the sum of __n__ numbers inputted by the user.  This is given below.  Use this to write a while loop that adds __n__ numbers inputted from the user.  Then print the result.  For example, if __n__ is _3_ and the user then inputs _5_ then _1_ then _4_, the output would be `10`."
   ]
  },
  {
   "cell_type": "code",
   "execution_count": 8,
   "metadata": {},
   "outputs": [
    {
     "name": "stdout",
     "output_type": "stream",
     "text": [
      "Enter the number of numbers you want to input:  3\n",
      "enter a number to be summed: 1\n",
      "enter a number to be summed: 2\n",
      "enter a number to be summed: 3\n",
      "the grand total is 6\n"
     ]
    }
   ],
   "source": [
    "n = int(input(\"Enter the number of numbers you want to input:  \"))\n",
    "count = 0\n",
    "sum = 0\n",
    "while count < n:\n",
    "    new_num = int(input(\"enter a number to be summed: \"))\n",
    "    sum += new_num\n",
    "    count += 1\n",
    "    \n",
    "print(\"the grand total is {0}\".format(sum))"
   ]
  },
  {
   "cell_type": "markdown",
   "metadata": {},
   "source": [
    "## Problem 6\n",
    "Write a short program that takes two integer inputs __x__ and __y__.  Then write a while loop to calculate the value of __x__ raised to the power of __y__.  Once calculated, output the result.  You are not allowed to use any math packages or the Python power operator."
   ]
  },
  {
   "cell_type": "code",
   "execution_count": 18,
   "metadata": {},
   "outputs": [
    {
     "name": "stdout",
     "output_type": "stream",
     "text": [
      "enter the base number: 4\n",
      "enter the power of that number: 16\n",
      "4294967296\n"
     ]
    }
   ],
   "source": [
    "x = int(input(\"enter the base number: \"))\n",
    "y = int(input(\"enter the power of that number: \"))\n",
    "output = 1\n",
    "count = 0\n",
    "\n",
    "while count < y:\n",
    "    count += 1\n",
    "    output = output*x\n",
    "print(output)"
   ]
  }
 ],
 "metadata": {
  "kernelspec": {
   "display_name": "Python 3",
   "language": "python",
   "name": "python3"
  },
  "language_info": {
   "codemirror_mode": {
    "name": "ipython",
    "version": 3
   },
   "file_extension": ".py",
   "mimetype": "text/x-python",
   "name": "python",
   "nbconvert_exporter": "python",
   "pygments_lexer": "ipython3",
   "version": "3.6.4"
  }
 },
 "nbformat": 4,
 "nbformat_minor": 2
}
