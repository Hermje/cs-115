{
 "cells": [
  {
   "cell_type": "markdown",
   "metadata": {},
   "source": [
    "## Problem 1\n",
    "Using string slicing, print only \"World\" from the  variable below."
   ]
  },
  {
   "cell_type": "code",
   "execution_count": 2,
   "metadata": {},
   "outputs": [
    {
     "name": "stdout",
     "output_type": "stream",
     "text": [
      "World\n"
     ]
    }
   ],
   "source": [
    "text = \"Hello, World!\"\n",
    "print(text[7:len(text) - 1])"
   ]
  },
  {
   "cell_type": "markdown",
   "metadata": {},
   "source": [
    "## Problem 2\n",
    "Using string slicing and __negative__ indices only, print \"Hello\" from the variable below. "
   ]
  },
  {
   "cell_type": "code",
   "execution_count": 4,
   "metadata": {},
   "outputs": [
    {
     "name": "stdout",
     "output_type": "stream",
     "text": [
      "Hello\n"
     ]
    }
   ],
   "source": [
    "text = \"Hello, World!\"\n",
    "print(text[-len(text):-8])"
   ]
  },
  {
   "cell_type": "markdown",
   "metadata": {},
   "source": [
    "## Problem 3\n",
    "The variable below stores someone's full name (First Last).  Use string slicing and the string format method to print the name as Last, First"
   ]
  },
  {
   "cell_type": "code",
   "execution_count": 11,
   "metadata": {
    "scrolled": true
   },
   "outputs": [
    {
     "name": "stdout",
     "output_type": "stream",
     "text": [
      "Weese, Josh\n"
     ]
    }
   ],
   "source": [
    "name = \"Josh Weese\"\n",
    "first = name[:4]\n",
    "last = name[5:]\n",
    "print(\"{}, {}\".format(last, first))"
   ]
  },
  {
   "cell_type": "markdown",
   "metadata": {},
   "source": [
    "## Problem 4\n",
    "\n",
    "Use string slicing to extract and print out the secret (I am Batman) from the variable below."
   ]
  },
  {
   "cell_type": "code",
   "execution_count": 29,
   "metadata": {},
   "outputs": [
    {
     "name": "stdout",
     "output_type": "stream",
     "text": [
      "I am Batman\n"
     ]
    }
   ],
   "source": [
    "hidden_secret = \"naIn naamn aBnantamnaanannaa\"\n",
    "print(hidden_secret[2:3] + \" \" + hidden_secret[7:9] + \" \" + hidden_secret[12:13] + hidden_secret[14:15] + hidden_secret[16:17] + hidden_secret[18:19] + hidden_secret[21:23])"
   ]
  },
  {
   "cell_type": "markdown",
   "metadata": {},
   "source": [
    "## Problem 5\n",
    "A palindrome is where a word is spelled the same backwards as it is forwards.  Write a short program that takes in one string input from the user and uses _string slicing_ to check if that input is a palindrome.  In this program, a space out of order will not result in a palindrome.  For example \"race car\" will not be a palindrome but \"racecar\" will."
   ]
  },
  {
   "cell_type": "code",
   "execution_count": 2,
   "metadata": {},
   "outputs": [
    {
     "name": "stdout",
     "output_type": "stream",
     "text": [
      "acecar\n"
     ]
    }
   ],
   "source": [
    "word = \"raceca\"\n",
    "print(word[::-1])"
   ]
  }
 ],
 "metadata": {
  "kernelspec": {
   "display_name": "Python 3",
   "language": "python",
   "name": "python3"
  },
  "language_info": {
   "codemirror_mode": {
    "name": "ipython",
    "version": 3
   },
   "file_extension": ".py",
   "mimetype": "text/x-python",
   "name": "python",
   "nbconvert_exporter": "python",
   "pygments_lexer": "ipython3",
   "version": "3.7.0"
  }
 },
 "nbformat": 4,
 "nbformat_minor": 2
}
