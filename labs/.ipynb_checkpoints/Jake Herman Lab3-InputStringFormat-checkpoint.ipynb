{
 "cells": [
  {
   "cell_type": "markdown",
   "metadata": {},
   "source": [
    "## Problem 1\n",
    "Combine the two variables below using the string format method."
   ]
  },
  {
   "cell_type": "code",
   "execution_count": 2,
   "metadata": {},
   "outputs": [
    {
     "data": {
      "text/plain": [
       "'cheese pizza'"
      ]
     },
     "execution_count": 2,
     "metadata": {},
     "output_type": "execute_result"
    }
   ],
   "source": [
    "thing_one = \"cheese\"\n",
    "thing_two = \" pizza\"\n",
    "\n",
    "\"{}{}\".format(thing_one, thing_two)"
   ]
  },
  {
   "cell_type": "markdown",
   "metadata": {},
   "source": [
    "## Problem 2\n",
    "Using the string format method and the variable below, print \"I like blueberry pancakes!\"."
   ]
  },
  {
   "cell_type": "code",
   "execution_count": 5,
   "metadata": {},
   "outputs": [
    {
     "data": {
      "text/plain": [
       "'I like blueberry pancakes'"
      ]
     },
     "execution_count": 5,
     "metadata": {},
     "output_type": "execute_result"
    }
   ],
   "source": [
    "favorite = 'I like pancakes'\n",
    "\n",
    "\"{} blueberry {}\".format(favorite[:6], favorite[7:])"
   ]
  },
  {
   "cell_type": "markdown",
   "metadata": {},
   "source": [
    "## Problem 3\n",
    "Fix __only__ the string below so it counts by 2 (2, 4, 6, 8, 10)."
   ]
  },
  {
   "cell_type": "code",
   "execution_count": 7,
   "metadata": {},
   "outputs": [
    {
     "name": "stdout",
     "output_type": "stream",
     "text": [
      "2, 4, 6, 8, 10\n"
     ]
    }
   ],
   "source": [
    "my_string = '{9}, {0}, {6}, {2}, {4}'\n",
    "print(my_string.format(4,5,8,9,10,3,6,7,1,2))"
   ]
  },
  {
   "cell_type": "markdown",
   "metadata": {},
   "source": [
    "## Problem 4\n",
    "Write a simple code snypet that takes in two whole numbers as input, stores them in two variables x and y, then outputs the calculation of dividing x by y rounded to 3 decimal places with a leading 0.  You must use a single print statement and use the string format method.  \n",
    "\n",
    "Example output would look like: `5 / 7 = 0.714`"
   ]
  },
  {
   "cell_type": "code",
   "execution_count": 11,
   "metadata": {},
   "outputs": [
    {
     "name": "stdout",
     "output_type": "stream",
     "text": [
      "enter a number: 5\n",
      "enter another number: 7\n"
     ]
    },
    {
     "data": {
      "text/plain": [
       "'0.714'"
      ]
     },
     "execution_count": 11,
     "metadata": {},
     "output_type": "execute_result"
    }
   ],
   "source": [
    "x = int(input(\"enter a number: \"))\n",
    "y = int(input(\"enter another number: \"))\n",
    "\n",
    "\"{:.3f}\".format(x/y)"
   ]
  },
  {
   "cell_type": "markdown",
   "metadata": {},
   "source": [
    "## Problem 5\n",
    "Write a short code snypet that takes in the user's name and how old they are in years.  Then, tell the user how many decades old they are (rounded down).  You must use the string format method\n",
    "\n",
    "For example, if Jim is 34 years old, the output should be: `Hi Jim, it looks like you are 3 decades old.`"
   ]
  },
  {
   "cell_type": "code",
   "execution_count": 13,
   "metadata": {},
   "outputs": [
    {
     "name": "stdout",
     "output_type": "stream",
     "text": [
      "enter your name: jake\n",
      "enter your age: 18\n"
     ]
    },
    {
     "data": {
      "text/plain": [
       "'Hi jake, it looks like you are 2 decade(s) old'"
      ]
     },
     "execution_count": 13,
     "metadata": {},
     "output_type": "execute_result"
    }
   ],
   "source": [
    "name = input(\"enter your name: \")\n",
    "age = int(input(\"enter your age: \"))\n",
    "\n",
    "\"Hi {}, it looks like you are {:.0f} decade(s) old\".format(name, age/10)"
   ]
  },
  {
   "cell_type": "markdown",
   "metadata": {},
   "source": [
    "## Problem 6\n",
    "Write a short code snypet that takes in the name of some candy and its price as a decimal number.  Then you should output how much it would cost to buy 5, 10, 50, and 100 pieces of that candy.  The amounts should be formatted as currency, with commas and a leading 0.  You must use the string format method.  To format a number with commas using the string format method, see the [documentation](https://docs.python.org/3/library/string.html#formatspec).\n",
    "\n",
    "Example output for a milky way that cost 20.25 per peiece would look like:\n",
    "\n",
    "`The 'milky way' candy costs $20.25 per piece.\n",
    "    5   milky way's would cost $101.25\n",
    "    10  milky way's would cost $202.50\n",
    "    50  milky way's would cost $1,012.50\n",
    "    100 milky way's would cost $2,025.00`"
   ]
  },
  {
   "cell_type": "code",
   "execution_count": 18,
   "metadata": {},
   "outputs": [
    {
     "name": "stdout",
     "output_type": "stream",
     "text": [
      "enter name of candy: Milky Way\n",
      "enter the price of that candy: 20.25\n",
      "\n",
      "The 'Milky Way' candy costs 20.25 per piece.\n",
      "\t5 Milky Way's would cost $101.25\n",
      "\t10 Milky Way's would cost $202.50\n",
      "\t50 Milky Way's would cost $1012.50\n",
      "\t100 Milky Way's would cost $2025.00\n"
     ]
    }
   ],
   "source": [
    "candy_name = input(\"enter name of candy: \")\n",
    "candy_price = float(input(\"enter the price of that candy: \"))\n",
    "\n",
    "quantities = [5, 10, 50, 100]\n",
    "\n",
    "print(\"\\nThe '{}' candy costs {} per piece.\".format(candy_name, candy_price))\n",
    "\n",
    "for quantity in quantities:\n",
    "    print(\"\\t{} {}'s would cost ${:.2f}\".format(quantity, candy_name, candy_price * quantity))"
   ]
  }
 ],
 "metadata": {
  "kernelspec": {
   "display_name": "Python 3",
   "language": "python",
   "name": "python3"
  },
  "language_info": {
   "codemirror_mode": {
    "name": "ipython",
    "version": 3
   },
   "file_extension": ".py",
   "mimetype": "text/x-python",
   "name": "python",
   "nbconvert_exporter": "python",
   "pygments_lexer": "ipython3",
   "version": "3.6.4"
  }
 },
 "nbformat": 4,
 "nbformat_minor": 2
}
