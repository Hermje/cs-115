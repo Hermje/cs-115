{
 "cells": [
  {
   "cell_type": "markdown",
   "metadata": {},
   "source": [
    "# Problem 1\n",
    "Create a dictionary with 5 of your favorite songs.  The key should be something like \"Song 1\" ... and the value should be the title of the song."
   ]
  },
  {
   "cell_type": "code",
   "execution_count": 1,
   "metadata": {},
   "outputs": [],
   "source": [
    "fav_songs = {\n",
    "    'song1': 'foreign',\n",
    "    'song2': 'you might think he loves you for your money but I know what he really loves you for its your leopard print pillbox hat',\n",
    "    'song3': 'debbie debbie',\n",
    "    'song4': 'dog in the yard (b side)',\n",
    "    'song5': 'accordian'\n",
    "}"
   ]
  },
  {
   "cell_type": "markdown",
   "metadata": {},
   "source": [
    "# Problem 2\n",
    "Write a __for loop__ to print the dictionary you created above in the following format: `key: value`"
   ]
  },
  {
   "cell_type": "code",
   "execution_count": 3,
   "metadata": {},
   "outputs": [
    {
     "name": "stdout",
     "output_type": "stream",
     "text": [
      "song1: foreign\n",
      "song2: you might think he loves you for your money but I know what he really loves you for its your leopard print pillbox hat\n",
      "song3: debbie debbie\n",
      "song4: dog in the yard (b side)\n",
      "song5: accordian\n"
     ]
    }
   ],
   "source": [
    "for key in fav_songs.keys():\n",
    "    print(\"{}: {}\".format(key, fav_songs[key]))"
   ]
  },
  {
   "cell_type": "markdown",
   "metadata": {},
   "source": [
    "# Problem 3\n",
    "Add code to the snippet below to print out all the scores in sorted order.  You may use built in python functions for sorting."
   ]
  },
  {
   "cell_type": "code",
   "execution_count": 21,
   "metadata": {},
   "outputs": [
    {
     "name": "stdout",
     "output_type": "stream",
     "text": [
      "Student 3: 29\n",
      "Student 0: 36\n",
      "Student 4: 50\n",
      "Student 2: 79\n",
      "Student 1: 93\n"
     ]
    }
   ],
   "source": [
    "import random\n",
    "scores = {}\n",
    "\n",
    "for i in range(5):\n",
    "    scores[\"Student {}\".format(i)] = random.randint(1,100)\n",
    "\n",
    "for k, v in sorted(scores.items(), key=lambda x: x[1]):\n",
    "    print(\"{}: {}\".format(k,v))"
   ]
  },
  {
   "cell_type": "markdown",
   "metadata": {},
   "source": [
    "# Problem 4\n",
    "Write a code snippet that prints only the two highest scores from the _scores_ dictionary above."
   ]
  },
  {
   "cell_type": "code",
   "execution_count": 28,
   "metadata": {},
   "outputs": [
    {
     "name": "stdout",
     "output_type": "stream",
     "text": [
      "highest score\n",
      "Student 1: 93\n",
      "second highest score\n",
      "Student 2: 79\n"
     ]
    }
   ],
   "source": [
    "scores_list = []\n",
    "\n",
    "for k, v in sorted(scores.items(), key=lambda x: x[1]):\n",
    "    scores_list.append((k,v))\n",
    "\n",
    "highest = scores_list[len(scores_list)- 1]\n",
    "second_highest = scores_list[len(scores_list)- 2]\n",
    "print(\"highest score\")\n",
    "print(\"{}: {}\".format(highest[0], highest[1]))\n",
    "print(\"second highest score\")\n",
    "print(\"{}: {}\".format(second_highest[0], second_highest[1]))"
   ]
  },
  {
   "cell_type": "markdown",
   "metadata": {},
   "source": [
    "# Problem 5\n",
    "Finish the code below to covert the list _numbers_ into a dictionary.  The key should be the index of the list and the value is the value in the list.  Then print the contents of your new dictionary in the same format as __Problem 2__.  You cannot use the built-in __map__ function."
   ]
  },
  {
   "cell_type": "code",
   "execution_count": 30,
   "metadata": {},
   "outputs": [
    {
     "name": "stdout",
     "output_type": "stream",
     "text": [
      "0: 88\n",
      "1: 87\n",
      "2: 58\n",
      "3: 84\n",
      "4: 66\n"
     ]
    }
   ],
   "source": [
    "numbers = [random.randint(1,100) for x in range(5)]\n",
    "numbers_dict = {}\n",
    "\n",
    "for index, value in enumerate(numbers):\n",
    "    numbers_dict[index] = value\n",
    "\n",
    "for key in numbers_dict.keys():\n",
    "    print(\"{}: {}\".format(key, numbers_dict[key]))"
   ]
  },
  {
   "cell_type": "markdown",
   "metadata": {},
   "source": [
    "# Problem 6\n",
    "Finish the code below to print the values from the dictionary that occur only __once__. No points will be given for this problem if it is hard-coded."
   ]
  },
  {
   "cell_type": "code",
   "execution_count": 32,
   "metadata": {},
   "outputs": [
    {
     "name": "stdout",
     "output_type": "stream",
     "text": [
      "dog\n",
      "kitten\n",
      "robots\n"
     ]
    }
   ],
   "source": [
    "words = {1: \"cat\", 2: \"dog\", 3: \"kitten\", 4: 'cat', 5: 'tape', 6: 'robots', 7: 'tape'}\n",
    "\n",
    "for key in words.keys():\n",
    "    count = 0\n",
    "    word = words[key]\n",
    "    \n",
    "    for value in words.values():\n",
    "        if value == word:\n",
    "            count += 1\n",
    "    \n",
    "    if count < 2:\n",
    "        print(word)"
   ]
  }
 ],
 "metadata": {
  "kernelspec": {
   "display_name": "Python 3",
   "language": "python",
   "name": "python3"
  },
  "language_info": {
   "codemirror_mode": {
    "name": "ipython",
    "version": 3
   },
   "file_extension": ".py",
   "mimetype": "text/x-python",
   "name": "python",
   "nbconvert_exporter": "python",
   "pygments_lexer": "ipython3",
   "version": "3.6.4"
  }
 },
 "nbformat": 4,
 "nbformat_minor": 2
}
