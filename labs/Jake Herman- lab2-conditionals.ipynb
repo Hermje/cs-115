{
 "cells": [
  {
   "cell_type": "markdown",
   "metadata": {},
   "source": [
    "# 1\n",
    "\n",
    "Remember that a conditional statement has the basic following format:\n",
    "\n",
    "**if** _condition_: <br/>\n",
    "&nbsp;&nbsp;&nbsp;&nbsp;code block that runs if condition is true\n",
    "\n",
    "without changing the value of the variable __test__, write an if statement (no `else` clause) to print \"The condition is true.\""
   ]
  },
  {
   "cell_type": "code",
   "execution_count": 1,
   "metadata": {},
   "outputs": [
    {
     "name": "stdout",
     "output_type": "stream",
     "text": [
      "The condition is true\n"
     ]
    }
   ],
   "source": [
    "test = True\n",
    "\n",
    "if test:\n",
    "    print(\"The condition is true\")"
   ]
  },
  {
   "cell_type": "markdown",
   "metadata": {},
   "source": [
    "# 2\n",
    "\n",
    "Conditional statements can be expanded to include a __false__ branch by adding an `else` clause.  Without changing the value of the variable, write an if/else statement that prints \"The condition is false.\""
   ]
  },
  {
   "cell_type": "code",
   "execution_count": 2,
   "metadata": {
    "collapsed": true
   },
   "outputs": [],
   "source": [
    "test = False\n",
    "\n",
    "if test:\n",
    "    print(\"The condition is true\")\n",
    "else:\n",
    "    print(\"The condition is flase\")"
   ]
  },
  {
   "cell_type": "markdown",
   "metadata": {},
   "source": [
    "# 3 \n",
    "Write a conditional statement that has one `if` clause, and one `else` clause for the following rules:\n",
    "1. When x is greater than y, print x - y\n",
    "2. When x is less than y, print y - x"
   ]
  },
  {
   "cell_type": "code",
   "execution_count": 2,
   "metadata": {},
   "outputs": [
    {
     "name": "stdout",
     "output_type": "stream",
     "text": [
      "10\n"
     ]
    }
   ],
   "source": [
    "# modify the values of x and y to test your conditional\n",
    "x = 10\n",
    "y = 20\n",
    "\n",
    "if x > y:\n",
    "    print(x - y)\n",
    "else:\n",
    "    print(y - x)"
   ]
  },
  {
   "cell_type": "markdown",
   "metadata": {},
   "source": [
    "# 4\n",
    "Employee evaluations are coming up and management needs a way to assign the final results.  Evaluation results are formulated from a score between 1 and 10, along with how long the employee has been working at the company.  According to the following rules, create a single conditional statement (this may include one `if` clause, any number of `elif` clauses, and one `else` clause) that  follows the following rules:\n",
    "1. For an employee that has a score of 10, print that a raise will be given!\n",
    "2. For an employee with a score between 7 and 9 (inclusive), print that they should keep up the good work!\n",
    "3. For an employee with a score of 5 or 6, print that they are doing fine, but should work harder.\n",
    "4. For an employee with a score between 2 and 4 (inclusive), print that they will be put on warning.\n",
    "5. If a new employee (employed for 2 or less years) gets a 1, then print they are fired.\n",
    "6. Otherwise, print that the employee has one month to improve or else they are fired.\n",
    "\n",
    "You should change the value of the variables below to test your conditional statement.\n"
   ]
  },
  {
   "cell_type": "code",
   "execution_count": 3,
   "metadata": {},
   "outputs": [
    {
     "name": "stdout",
     "output_type": "stream",
     "text": [
      "you are fine, but there's room for improvement\n"
     ]
    }
   ],
   "source": [
    "# variable to store the evaluation score of the employee\n",
    "result = 5\n",
    "# number of years the employee has been working\n",
    "years = 2\n",
    "\n",
    "if result == 10:\n",
    "    print(\"raise is available!\")\n",
    "elif result <= 9 and result >= 7:\n",
    "    print(\"keep up the good work!\")\n",
    "elif result == 5 or result == 6:\n",
    "    print(\"you are fine, but there's room for improvement\")\n",
    "elif result <= 4 or result >= 2:\n",
    "    print(\"this is a warning\")\n",
    "elif result < 2:\n",
    "    if years <= 2:\n",
    "        print(\"you are fired\")\n",
    "    else:\n",
    "        print(\"you have a month to improve\")"
   ]
  },
  {
   "cell_type": "markdown",
   "metadata": {},
   "source": [
    "# 5\n",
    "Fix the conditional below so that it properly prints out the correct grades for a standard 90/80/70/60 grading scale."
   ]
  },
  {
   "cell_type": "code",
   "execution_count": 8,
   "metadata": {},
   "outputs": [
    {
     "name": "stdout",
     "output_type": "stream",
     "text": [
      "Your grade is an D.\n"
     ]
    }
   ],
   "source": [
    "# modify score as needed to test\n",
    "score = 60\n",
    "if score >= 90 and score <= 100:\n",
    "    print(\"Your grade is an A.\")\n",
    "elif score >= 80 and score < 90:\n",
    "    print(\"Your grade is an B.\")\n",
    "elif score < 80 and score >= 70:\n",
    "    print(\"Your grade is an C.\")\n",
    "elif score < 70 and score >= 60:\n",
    "    print(\"Your grade is an D.\")\n",
    "else:\n",
    "    print(\"Your grade is an F.\")"
   ]
  },
  {
   "cell_type": "markdown",
   "metadata": {},
   "source": [
    "# 5\n",
    "Given the truth table below, write a conditional statement that prints True when the output is 1 and False when output is 0.  This is much like the activity in class, but instead of writing a Boolean algebra formula, it is done in Python.  You will need to also create 3 variables, x, y, and z, and assign different values (True or False) to test your conditional.\n",
    "\n",
    "| x | y | z | output |\n",
    "|---|---|---|:------:|\n",
    "| True | True | True |    False   |\n",
    "| True | True | False |    False   |\n",
    "| True | False | True |    False   |\n",
    "| True | False | False |    True   |\n",
    "| False | True | True |    False   |\n",
    "| False | True | False |    False   |\n",
    "| False | False | True |    False   |\n",
    "| False | False | False |    False   |"
   ]
  },
  {
   "cell_type": "code",
   "execution_count": 12,
   "metadata": {},
   "outputs": [
    {
     "name": "stdout",
     "output_type": "stream",
     "text": [
      "False\n"
     ]
    }
   ],
   "source": [
    "x = False\n",
    "y = False\n",
    "z = False\n",
    "\n",
    "print(x and not(y or z))"
   ]
  }
 ],
 "metadata": {
  "kernelspec": {
   "display_name": "Python 3",
   "language": "python",
   "name": "python3"
  },
  "language_info": {
   "codemirror_mode": {
    "name": "ipython",
    "version": 3
   },
   "file_extension": ".py",
   "mimetype": "text/x-python",
   "name": "python",
   "nbconvert_exporter": "python",
   "pygments_lexer": "ipython3",
   "version": "3.6.4"
  }
 },
 "nbformat": 4,
 "nbformat_minor": 2
}
