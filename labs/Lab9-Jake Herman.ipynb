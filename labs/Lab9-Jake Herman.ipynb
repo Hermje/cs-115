{
 "cells": [
  {
   "cell_type": "markdown",
   "metadata": {},
   "source": [
    "# Problem 1\n",
    "Write a function named `sum_list` that takes in a single parameter (a list) and returns the sum.  Once finished, you should call the function and print the value that is returned.  A list is provided for you to use as a parameter."
   ]
  },
  {
   "cell_type": "code",
   "execution_count": 2,
   "metadata": {},
   "outputs": [
    {
     "name": "stdout",
     "output_type": "stream",
     "text": [
      "45\n"
     ]
    }
   ],
   "source": [
    "my_list = [x for x in range(1,10)]\n",
    "\n",
    "def sum_list(numbers):\n",
    "    sum = 0\n",
    "    for number in numbers:\n",
    "        sum += number\n",
    "        \n",
    "    return sum\n",
    "        \n",
    "print(sum_list(my_list))"
   ]
  },
  {
   "cell_type": "markdown",
   "metadata": {},
   "source": [
    "# Problem 2\n",
    "Write a function that finds the smallest of three numbers passed in as arguments.  The function should print the smallest number.  Once you finish the function, call it three times with three different sets of numbers: one where the first argument is the smallest, one where the second is the smallest, and one where the third is the smallest."
   ]
  },
  {
   "cell_type": "code",
   "execution_count": 7,
   "metadata": {},
   "outputs": [
    {
     "name": "stdout",
     "output_type": "stream",
     "text": [
      "10\n",
      "10\n",
      "10\n"
     ]
    }
   ],
   "source": [
    "def smallest_number(num1, num2, num3):\n",
    "    if num1 < num2:\n",
    "        if num1 < num3:\n",
    "            print(num1)\n",
    "        else:\n",
    "            print(num3)\n",
    "    else:\n",
    "        if num2 < num3:\n",
    "            print(num2)\n",
    "        else:\n",
    "            print(num3)\n",
    "\n",
    "smallest_number(10, 20, 30)\n",
    "smallest_number(20, 10, 30)\n",
    "smallest_number(30, 20, 10)"
   ]
  },
  {
   "cell_type": "markdown",
   "metadata": {},
   "source": [
    "# Problem 3\n",
    "Write a function that takes a single string as a parameter.  This function should reverse the string and print it out.  The parameter should be a named parameter that has a default value of an empty string.  Once finished, you should call the function with at least two different words.\n"
   ]
  },
  {
   "cell_type": "code",
   "execution_count": 9,
   "metadata": {},
   "outputs": [
    {
     "name": "stdout",
     "output_type": "stream",
     "text": [
      "ekaj\n",
      "tahw\n",
      "\n"
     ]
    }
   ],
   "source": [
    "def reverse_word(word = \"\"):\n",
    "    print(word[::-1])\n",
    "\n",
    "reverse_word(\"jake\")\n",
    "reverse_word(\"what\")\n",
    "reverse_word()"
   ]
  },
  {
   "cell_type": "markdown",
   "metadata": {},
   "source": [
    "# Problem 4\n",
    "Write a function that takes a single string as a parameter.  The function should then total up the number of lowercase and uppercase characters.  It should also print these totals in a clear way.  Be sure to call the function with a couple of sample words once you finish."
   ]
  },
  {
   "cell_type": "code",
   "execution_count": 10,
   "metadata": {},
   "outputs": [
    {
     "name": "stdout",
     "output_type": "stream",
     "text": [
      "the word Jake Herman has 2 uppercase characters and 9 lowercase characters\n",
      "the word AAAAAAaaaa has 6 uppercase characters and 4 lowercase characters\n"
     ]
    }
   ],
   "source": [
    "def analyze_characters(word):\n",
    "    uppercase_count = 0\n",
    "    lowercase_count = 0\n",
    "    for char in word:\n",
    "        if char.isupper():\n",
    "            uppercase_count += 1\n",
    "        else:\n",
    "            lowercase_count += 1\n",
    "    \n",
    "    print(\"the word {} has {} uppercase characters and {} lowercase characters\".format(word, uppercase_count, lowercase_count))\n",
    "\n",
    "analyze_characters(\"Jake Herman\")\n",
    "analyze_characters(\"AAAAAAaaaa\")"
   ]
  },
  {
   "cell_type": "markdown",
   "metadata": {},
   "source": [
    "# Problem 5\n",
    "Write a function that takes a string and determines if it is a pangram or not and prints the result.  A string is a pangram if it contains all of the letters of the alphabet."
   ]
  },
  {
   "cell_type": "code",
   "execution_count": 28,
   "metadata": {},
   "outputs": [
    {
     "name": "stdout",
     "output_type": "stream",
     "text": [
      "abcdefghijklmnopqrstuvwxy is not a panagram\n",
      "abcdefghijklmnopqrstuvwxyz is a panagram\n",
      "The quick brown fox jumps over the lazy dog is a panagram\n"
     ]
    },
    {
     "data": {
      "text/plain": [
       "True"
      ]
     },
     "execution_count": 28,
     "metadata": {},
     "output_type": "execute_result"
    }
   ],
   "source": [
    "def is_panagram(phrase):\n",
    "    #using a dictionary to keep counts of the letters in the phrase, easy to look up\n",
    "    alphabet = {\"a\": 0, \"b\":0, \"c\": 0, \"d\": 0, \"e\": 0, \"f\": 0, \"g\": 0, \"h\": 0, \"i\": 0, \"j\": 0, \"k\": 0,\n",
    "                \"l\": 0, \"m\": 0, \"n\": 0, \"o\": 0, \"p\": 0, \"q\": 0, \"r\": 0, \"s\": 0, \"t\": 0, \"u\": 0, \"v\": 0,\n",
    "                \"w\": 0, \"x\": 0, \"y\": 0, \"z\": 0}\n",
    "    for char in phrase:\n",
    "        try:\n",
    "            #forcing lowercase so I don't have to make uppercase options in the dictionary\n",
    "            alphabet[char.lower()] = alphabet[char.lower()] + 1\n",
    "        except KeyError:\n",
    "            #if there are other symbols like a space or apostrophe, they will be ignored\n",
    "            continue\n",
    "        \n",
    "    for char in alphabet.keys():\n",
    "        if alphabet[char.lower()] == 0:\n",
    "            print(\"{} is not a panagram\".format(phrase))\n",
    "            return False\n",
    "    \n",
    "    print(\"{} is a panagram\".format(phrase))\n",
    "    return True\n",
    "\n",
    "is_panagram(\"abcdefghijklmnopqrstuvwxy\")\n",
    "is_panagram(\"abcdefghijklmnopqrstuvwxyz\")\n",
    "is_panagram(\"The quick brown fox jumps over the lazy dog\")"
   ]
  }
 ],
 "metadata": {
  "kernelspec": {
   "display_name": "Python 3",
   "language": "python",
   "name": "python3"
  },
  "language_info": {
   "codemirror_mode": {
    "name": "ipython",
    "version": 3
   },
   "file_extension": ".py",
   "mimetype": "text/x-python",
   "name": "python",
   "nbconvert_exporter": "python",
   "pygments_lexer": "ipython3",
   "version": "3.6.4"
  }
 },
 "nbformat": 4,
 "nbformat_minor": 2
}
