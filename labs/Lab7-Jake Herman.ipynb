{
 "cells": [
  {
   "cell_type": "markdown",
   "metadata": {},
   "source": [
    "# Problem 1\n",
    "Create a sinlge list that contains 5 of your favorite things.  Store this list in a variable."
   ]
  },
  {
   "cell_type": "code",
   "execution_count": 10,
   "metadata": {},
   "outputs": [],
   "source": [
    "favorite_things = ['skateboards', 'music', 'programming', 'my car', 'my dog']"
   ]
  },
  {
   "cell_type": "markdown",
   "metadata": {},
   "source": [
    "# Problem 2\n",
    "Write a __for__ loop to print all of the items from your list, one per line."
   ]
  },
  {
   "cell_type": "code",
   "execution_count": 3,
   "metadata": {},
   "outputs": [
    {
     "name": "stdout",
     "output_type": "stream",
     "text": [
      "skateboards\n",
      "music\n",
      "programming\n",
      "my car\n",
      "my dog\n"
     ]
    }
   ],
   "source": [
    "for thing in favorite_things:\n",
    "    print(thing)"
   ]
  },
  {
   "cell_type": "markdown",
   "metadata": {},
   "source": [
    "# Problem 3\n",
    "Write a __for__ loop to print all of the items from your list along with their index.  The format of this should look something like `index: item`."
   ]
  },
  {
   "cell_type": "code",
   "execution_count": 5,
   "metadata": {},
   "outputs": [
    {
     "name": "stdout",
     "output_type": "stream",
     "text": [
      "0: skateboards\n",
      "1: music\n",
      "2: programming\n",
      "3: my car\n",
      "4: my dog\n"
     ]
    }
   ],
   "source": [
    "for index, thing in enumerate(favorite_things):\n",
    "    print('{}: {}'.format(index, thing))"
   ]
  },
  {
   "cell_type": "markdown",
   "metadata": {},
   "source": [
    "# Problem 4\n",
    "Add two of your favorite numbers to your list you created in _problem 1_. Your code must use the append function. After, use the __print__ function to output your list."
   ]
  },
  {
   "cell_type": "code",
   "execution_count": 11,
   "metadata": {},
   "outputs": [
    {
     "name": "stdout",
     "output_type": "stream",
     "text": [
      "['skateboards', 'music', 'programming', 'my car', 'my dog', 4, 25]\n"
     ]
    }
   ],
   "source": [
    "favorite_things.append(4)\n",
    "favorite_things.append(25)\n",
    "\n",
    "print(favorite_things)"
   ]
  },
  {
   "cell_type": "markdown",
   "metadata": {},
   "source": [
    "# Problem 5\n",
    "Remove the item in the middle of your list. After, use the __print__ function to output your list."
   ]
  },
  {
   "cell_type": "code",
   "execution_count": null,
   "metadata": {
    "collapsed": true
   },
   "outputs": [],
   "source": []
  },
  {
   "cell_type": "markdown",
   "metadata": {},
   "source": [
    "# Problem 6\n",
    "Create a new list that contains all of the odd numbers between 1 and 20, each divided by 3.  You may not hard-code the values and must use a __for loop__. After, use the __print__ function to output your list."
   ]
  },
  {
   "cell_type": "code",
   "execution_count": null,
   "metadata": {
    "collapsed": true
   },
   "outputs": [],
   "source": []
  },
  {
   "cell_type": "markdown",
   "metadata": {},
   "source": [
    "# Problem 7\n",
    "Create a new list that contains all of the odd numbers between 1 and 20, each divided by 3.  You may not hard-code the values and must use __list comprehension__. After, use the __print__ function to output your list."
   ]
  },
  {
   "cell_type": "code",
   "execution_count": null,
   "metadata": {
    "collapsed": true
   },
   "outputs": [],
   "source": []
  },
  {
   "cell_type": "markdown",
   "metadata": {},
   "source": [
    "# Problem 8\n",
    "Create a code snippet that takes in a single input from the user as an integer.  Using this integer, use nested __for loops__ to create some ascii art.  The ascii art should look something like this:\n",
    "\n",
    "5  \n",
    "5 5  \n",
    "5 5 5  \n",
    "5 5  \n",
    "5  \n",
    "\n",
    "The max number of '5's printed out corresponds to the number that is inputed by the user.  You may use any character in place of '5', like a '*'."
   ]
  },
  {
   "cell_type": "code",
   "execution_count": null,
   "metadata": {
    "collapsed": true
   },
   "outputs": [],
   "source": []
  }
 ],
 "metadata": {
  "kernelspec": {
   "display_name": "Python 3",
   "language": "python",
   "name": "python3"
  },
  "language_info": {
   "codemirror_mode": {
    "name": "ipython",
    "version": 3
   },
   "file_extension": ".py",
   "mimetype": "text/x-python",
   "name": "python",
   "nbconvert_exporter": "python",
   "pygments_lexer": "ipython3",
   "version": "3.6.4"
  }
 },
 "nbformat": 4,
 "nbformat_minor": 2
}
